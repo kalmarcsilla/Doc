{
 "cells": [
  {
   "cell_type": "markdown",
   "metadata": {},
   "source": [
    "# Feladat részletezése\n",
    "## Feladat megoldásának lépései:\n",
    "-\tNapi adatok letöltése \n",
    "-\tnapi, heti, havi, és negyedéves `maximum high`, `minimum low`, értékek kiszámítása és DataFramehez csatolása\n",
    "-\tUnit teszt "
   ]
  },
  {
   "cell_type": "markdown",
   "metadata": {},
   "source": [
    "```Python\n",
    "#A dátum oszlopot Index \n",
    "df = df.set_index(pd.to_datetime(df['Date']))\n",
    "```"
   ]
  },
  {
   "cell_type": "markdown",
   "id": "b77a12d0",
   "metadata": {},
   "source": [
    " ![Az összes meccs adatát tartalmazó dataframe](pics/Date_index.png)"
   ]
  },
  {
   "cell_type": "markdown",
   "id": "0f11879c",
   "metadata": {},
   "source": [
    "Létrehoztam egy previous_week oszlopot, ami alapján kiszámítottam a heti High maximumokat illetve heti Low minimumokat"
   ]
  },
  {
   "cell_type": "markdown",
   "id": "a9bc3921",
   "metadata": {},
   "source": [
    "```Python\n",
    "#Create new (previous_week) column \n",
    "# Based on the previous week column group data in a weekly basis and calculate the maximum High/minimum Low values\n",
    "\n",
    "df['Prev_Week_date'] = df['Date']-pd.to_timedelta(7, unit='d')\n",
    "df['Weekly_Max_high'] = df.groupby([pd.Grouper(key = 'Prev_Week_date',freq = 'W')])['High'].transform('max')\n",
    "df['Weekly_Min_low'] = df.groupby([pd.Grouper(key = 'Prev_Week_date',freq = 'W')])['Low'].transform('min')\n",
    "```"
   ]
  },
  {
   "cell_type": "markdown",
   "id": "c48320f7",
   "metadata": {},
   "source": [
    "Létrehoztam egy Quarter illetve egy Prev_Quarter oszlopot, majd a Prev_Quarter oszlop alapján kiszámítottam a maximum High és minimum Low értékeket.\n",
    "Miután előálltak az új oszlopok, hozzáillesztettem az előző DataFramhez."
   ]
  },
  {
   "cell_type": "markdown",
   "id": "3b0758dc",
   "metadata": {},
   "source": [
    "```Python\n",
    "#Create new (Quarter and Prev_Quarter) columns \n",
    "\n",
    "df['Quarter'] = df['Date'].dt.to_period('Q')\n",
    "df['Prev_Quarter'] = df['Date'].dt.to_period('Q') - 1\n",
    "\n",
    "# Group data in a quarterly basis and calculate the maximum High values\n",
    "\n",
    "Quarterly_Max_high_df = df.groupby('Quarter')['High'].max().reset_index()\n",
    "Quarterly_Max_high_df.rename(columns = {'High':'Quarterly_max_High','Quarter':'Prev_Quarter',}, inplace = True)\n",
    "Quarterly_Max_high_df\n",
    "\n",
    "# Group data in a quarterly basis and calculate the minimum Low values\n",
    "\n",
    "Quarterly_Min_low_df = df.groupby('Quarter')['Low'].min().reset_index()\n",
    "Quarterly_Min_low_df.rename(columns = {'Low':'Quarterly_min_Low','Quarter':'Prev_Quarter',}, inplace = True)\n",
    "\n",
    "#Join the results to the previous DataFrame \n",
    "\n",
    "Merged_df = df.merge(Quarterly_Max_high_df, how='left', on=[\"Prev_Quarter\"])\n",
    "Merged_df = Merged_df.merge(Quarterly_Min_low_df, how='left', on=[\"Prev_Quarter\"])\n",
    "```"
   ]
  },
  {
   "cell_type": "markdown",
   "id": "a302eada",
   "metadata": {},
   "source": [
    "Létrehoztam egy Month illetve egy Prev_MOnth oszlopot, majd a Prev_MOnth oszlop alapján kiszámítottam a maximum High és minimum Low értékeket.\n",
    "Miután előálltak az új oszlopok, hozzáillesztettem az előző DataFramhez."
   ]
  },
  {
   "cell_type": "markdown",
   "id": "4bfdaee1",
   "metadata": {},
   "source": [
    "```Python\n",
    "#Create new (Month and Prev_Month) columns \n",
    "\n",
    "Merged_df['Month'] = Merged_df['Date'].dt.to_period('M')\n",
    "Merged_df['Prev_Month'] = Merged_df['Date'].dt.to_period('M') - 1\n",
    "\n",
    "# Group data in monthly basis and calculate the maximum High values\n",
    "\n",
    "Monthly_Max_high_df = Merged_df.groupby('Month')['High'].max().reset_index()\n",
    "Monthly_Max_high_df.rename(columns = {'High':'Monthly_max_High','Month':'Prev_Month',}, inplace = True)\n",
    "\n",
    "# Group data in monthly basis and calculate the minimum Low values\n",
    "\n",
    "Monthly_Min_low_df = Merged_df.groupby('Month')['Low'].min().reset_index()\n",
    "Monthly_Min_low_df.rename(columns = {'Low':'Monthly_min_low','Month':'Prev_Month',}, inplace = True)\n",
    "\n",
    "#Join the results to the previous DataFrame \n",
    "\n",
    "Merged_df_v2 = Merged_df.merge(Monthly_Max_high_df, how='left', on=[\"Prev_Month\"])\n",
    "Merged_df_v2 = Merged_df_v2.merge(Monthly_Min_low_df, how='left', on=[\"Prev_Month\"])\n",
    "```"
   ]
  }
 ],
 "metadata": {
  "kernelspec": {
   "display_name": "Python 3",
   "language": "python",
   "name": "python3"
  },
  "language_info": {
   "codemirror_mode": {
    "name": "ipython",
    "version": 3
   },
   "file_extension": ".py",
   "mimetype": "text/x-python",
   "name": "python",
   "nbconvert_exporter": "python",
   "pygments_lexer": "ipython3",
   "version": "3.10.0"
  }
 },
 "nbformat": 4,
 "nbformat_minor": 5
}
