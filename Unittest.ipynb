{
 "cells": [
  {
   "cell_type": "code",
   "execution_count": null,
   "metadata": {},
   "outputs": [],
   "source": [
    "import unittest\n",
    "import pandas as pd\n",
    "\n",
    "class TestQuaerterlyDataFrameCalc(unittest.TestCase):\n",
    "\n",
    "    #examples of unit tests\n",
    "    def test_foo(self):\n",
    "        self.assertEqual('foo'.upper(), 'FOO')\n",
    "\n",
    "    #examples of unit tests\n",
    "    def test_foo2(self):\n",
    "        self.assertEqual(1+1, 2)\n",
    "\n",
    "    #unit test of the task\n",
    "    def test_quarterly(self):\n",
    "        # setup: input testadat\n",
    "          \n",
    "        quarterly_data = {'Prev_Quarter\t': ['2021Q3', '2021Q4', '2022Q1', '2022Q2','2022Q3'],\n",
    "                        'Quarterly_max_High': [248.90, 269.72, 271.15, 259.61, 265.46]}\n",
    "  \n",
    "        # Create DataFrame\n",
    "        test_quarterly_data = pd.DataFrame(quarterly_data)\n",
    "\n",
    "        # call\n",
    "        df = pd.read_csv('MCD_US.csv',skiprows = [1],parse_dates=['Date']) \n",
    "        df = df.set_index(pd.to_datetime(df['Date']))\n",
    "        df['Quarter'] = df['Date'].dt.to_period('Q')\n",
    "        df['Prev_Quarter'] = df['Date'].dt.to_period('Q') - 1\n",
    "        Quarterly_Max_high_df = df.groupby('Quarter')['High'].max().reset_index()\n",
    "        Quarterly_Max_high_df.rename(columns = {'High':'Quarterly_max_High','Quarter':'Prev_Quarter',}, inplace = True)\n",
    "\n",
    "        # testing for equality\n",
    "        pd.testing.assert_series_equal(test_quarterly_data, Quarterly_Max_high_df, check_dtype=False, check_exact = False, rtol=1e-2, atol=1e-2)\n",
    "\n",
    "if __name__ == '__main__':\n",
    "    unittest.main()"
   ]
  }
 ],
 "metadata": {
  "kernelspec": {
   "display_name": "Python 3.10.0 64-bit",
   "language": "python",
   "name": "python3"
  },
  "language_info": {
   "name": "python",
   "version": "3.10.0"
  },
  "orig_nbformat": 4,
  "vscode": {
   "interpreter": {
    "hash": "369f2c481f4da34e4445cda3fffd2e751bd1c4d706f27375911949ba6bb62e1c"
   }
  }
 },
 "nbformat": 4,
 "nbformat_minor": 2
}
